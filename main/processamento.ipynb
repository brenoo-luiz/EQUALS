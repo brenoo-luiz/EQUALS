{
 "cells": [
  {
   "cell_type": "markdown",
   "metadata": {},
   "source": [
    "## Configurações"
   ]
  },
  {
   "cell_type": "code",
   "execution_count": 1,
   "metadata": {},
   "outputs": [
    {
     "name": "stdout",
     "output_type": "stream",
     "text": [
      "Colunas df_vendas: ['codigo_contrato', 'data_venda', 'codigo_produto', 'filial_venda', 'quantidade', 'valor_monetario_total', 'valor_desconto', 'codigo_vendedor', 'codigo_cliente']\n",
      "Colunas df_produtos: ['codigo_produto', 'descricaoproduto', 'codigo_familia', 'preco_venda_unitario', 'custo_produto_unitario']\n",
      "Colunas df_familia: ['codigo_familia', 'descricaofamilia']\n",
      "Colunas df_vendedor: ['codigo_vendedor', 'nome_vendedor']\n"
     ]
    },
    {
     "name": "stderr",
     "output_type": "stream",
     "text": [
      "/tmp/ipykernel_95281/659429703.py:15: DtypeWarning: Columns (0) have mixed types. Specify dtype option on import or set low_memory=False.\n",
      "  df_vendas   = padronizar_colunas(pd.read_csv(clean_data_dir / \"fato_vendas_limpo.csv\"))\n"
     ]
    }
   ],
   "source": [
    "import pandas as pd\n",
    "from pathlib import Path\n",
    "\n",
    "try:\n",
    "    base_dir = Path(__file__).parent.resolve()\n",
    "except NameError:\n",
    "    base_dir = Path.cwd().resolve()\n",
    "\n",
    "clean_data_dir = base_dir / \"clean_data\"\n",
    "\n",
    "def padronizar_colunas(df):\n",
    "    df.columns = df.columns.str.strip().str.lower()\n",
    "    return df\n",
    "\n",
    "df_vendas   = padronizar_colunas(pd.read_csv(clean_data_dir / \"fato_vendas_limpo.csv\"))\n",
    "df_familia  = padronizar_colunas(pd.read_csv(clean_data_dir / \"dim_familia_produtos_limpo.csv\"))\n",
    "df_produtos = padronizar_colunas(pd.read_csv(clean_data_dir / \"dim_produtos_limpo.csv\"))\n",
    "df_vendedor = padronizar_colunas(pd.read_csv(clean_data_dir / \"dim_vendedor_limpo.csv\"))\n",
    "\n",
    "print(\"Colunas df_vendas:\", df_vendas.columns.tolist())\n",
    "print(\"Colunas df_produtos:\", df_produtos.columns.tolist())\n",
    "print(\"Colunas df_familia:\", df_familia.columns.tolist())\n",
    "print(\"Colunas df_vendedor:\", df_vendedor.columns.tolist())"
   ]
  },
  {
   "cell_type": "markdown",
   "metadata": {},
   "source": [
    "## Unir datasets"
   ]
  },
  {
   "cell_type": "code",
   "execution_count": 2,
   "metadata": {},
   "outputs": [
    {
     "name": "stdout",
     "output_type": "stream",
     "text": [
      "\n",
      "Arquivo final salvo em: /home/breno-luiz/Documents/EQUALS/main/clean_data/dados_completos.csv\n"
     ]
    }
   ],
   "source": [
    "df_merged = df_vendas.merge(df_produtos, on=\"codigo_produto\", how=\"left\")\n",
    "df_merged = df_merged.merge(df_familia, on=\"codigo_familia\", how=\"left\")\n",
    "df_merged = df_merged.merge(df_vendedor, on=\"codigo_vendedor\", how=\"left\")\n",
    "df_merged[\"mes_ano\"] = pd.to_datetime(df_merged[\"data_venda\"]).dt.to_period(\"M\")\n",
    "df_merged[\"valor_bruto\"] = df_merged[\"quantidade\"] * df_merged[\"preco_venda_unitario\"]\n",
    "\n",
    "caminho_saida = clean_data_dir / \"dados_completos.csv\"\n",
    "df_merged.to_csv(caminho_saida, index=False)\n",
    "\n",
    "print(f\"\\nArquivo final salvo em: {caminho_saida}\")"
   ]
  }
 ],
 "metadata": {
  "kernelspec": {
   "display_name": ".venv",
   "language": "python",
   "name": "python3"
  },
  "language_info": {
   "codemirror_mode": {
    "name": "ipython",
    "version": 3
   },
   "file_extension": ".py",
   "mimetype": "text/x-python",
   "name": "python",
   "nbconvert_exporter": "python",
   "pygments_lexer": "ipython3",
   "version": "3.12.3"
  }
 },
 "nbformat": 4,
 "nbformat_minor": 2
}
