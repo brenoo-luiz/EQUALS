{
 "cells": [
  {
   "cell_type": "markdown",
   "metadata": {},
   "source": [
    "## Configuração"
   ]
  },
  {
   "cell_type": "code",
   "execution_count": null,
   "metadata": {},
   "outputs": [
    {
     "name": "stderr",
     "output_type": "stream",
     "text": [
      "/tmp/ipykernel_60693/1314743157.py:16: DtypeWarning: Columns (0) have mixed types. Specify dtype option on import or set low_memory=False.\n",
      "  df_vendas = pd.read_csv(os.path.join(diretorio_base, arquivos[\"vendas\"]))\n"
     ]
    }
   ],
   "source": [
    "import pandas as pd\n",
    "import os \n",
    "\n",
    "diretorio_base = \"/home/breno-luiz/Documents/Planilha/\"\n",
    "pasta_limpos = os.path.join(diretorio_base, \"dados_limpos\")\n",
    "\n",
    "os.makedirs(pasta_limpos, exist_ok=True) \n",
    "\n",
    "arquivos = {\n",
    "    \"vendas\": \"fato_vendas.csv\",\n",
    "    \"familia\": \"dim_familia_produtos.csv\",\n",
    "    \"produtos\": \"dim_produtos.csv\",\n",
    "    \"vendedor\": \"dim_vendedor.csv\"\n",
    "}\n",
    "\n",
    "df_vendas = pd.read_csv(os.path.join(diretorio_base, arquivos[\"vendas\"]))\n",
    "df_familia = pd.read_csv(os.path.join(diretorio_base, arquivos[\"familia\"]))\n",
    "df_produtos = pd.read_csv(os.path.join(diretorio_base, arquivos[\"produtos\"]))\n",
    "df_vendedor = pd.read_csv(os.path.join(diretorio_base, arquivos[\"vendedor\"]))"
   ]
  },
  {
   "cell_type": "markdown",
   "metadata": {},
   "source": [
    "## Informações gerais"
   ]
  },
  {
   "cell_type": "code",
   "execution_count": 1,
   "metadata": {},
   "outputs": [
    {
     "name": "stdout",
     "output_type": "stream",
     "text": [
      "--- Informações das tabelas ---\n"
     ]
    },
    {
     "ename": "NameError",
     "evalue": "name 'df_vendas' is not defined",
     "output_type": "error",
     "traceback": [
      "\u001b[31m---------------------------------------------------------------------------\u001b[39m",
      "\u001b[31mNameError\u001b[39m                                 Traceback (most recent call last)",
      "\u001b[36mCell\u001b[39m\u001b[36m \u001b[39m\u001b[32mIn[1]\u001b[39m\u001b[32m, line 2\u001b[39m\n\u001b[32m      1\u001b[39m \u001b[38;5;28mprint\u001b[39m(\u001b[33m\"\u001b[39m\u001b[33m--- Informações das tabelas ---\u001b[39m\u001b[33m\"\u001b[39m)\n\u001b[32m----> \u001b[39m\u001b[32m2\u001b[39m \u001b[43mdf_vendas\u001b[49m.info()\n\u001b[32m      3\u001b[39m df_familia.info()\n\u001b[32m      4\u001b[39m df_produtos.info()\n",
      "\u001b[31mNameError\u001b[39m: name 'df_vendas' is not defined"
     ]
    }
   ],
   "source": [
    "print(\"--- Informações das tabelas ---\")\n",
    "df_vendas.info()\n",
    "df_familia.info()\n",
    "df_produtos.info()\n",
    "df_vendedor.info()"
   ]
  },
  {
   "cell_type": "markdown",
   "metadata": {},
   "source": [
    "## Valores nulos"
   ]
  },
  {
   "cell_type": "code",
   "execution_count": null,
   "metadata": {},
   "outputs": [
    {
     "name": "stdout",
     "output_type": "stream",
     "text": [
      "\n",
      "Valores nulos em Fato Vendas:\n",
      "codigo_contrato           0\n",
      "data_venda                0\n",
      "codigo_produto            0\n",
      "filial_venda              0\n",
      "quantidade                0\n",
      "valor_monetario_total     0\n",
      "valor_desconto            0\n",
      "codigo_vendedor           0\n",
      "codigo_cliente           16\n",
      "dtype: int64\n",
      "\n",
      "Valores nulos em Dimensão Família:\n",
      "codigo_familia      0\n",
      "descricaofamilia    0\n",
      "dtype: int64\n",
      "\n",
      "Valores nulos em Dimensão Produtos:\n",
      "codigo_produto            0\n",
      "descricaoproduto          0\n",
      "codigo_familia            0\n",
      "preco_venda_unitario      0\n",
      "custo_produto_unitario    0\n",
      "dtype: int64\n",
      "\n",
      "Valores nulos em Dimensão Vendedor:\n",
      "codigo_vendedor    0\n",
      "nome_vendedor      0\n",
      "dtype: int64\n"
     ]
    }
   ],
   "source": [
    "def verificar_valores_nulos(df, nome):\n",
    "    print(f\"\\nValores nulos em {nome}:\")\n",
    "    print(df.isnull().sum())\n",
    "\n",
    "verificar_valores_nulos(df_vendas, \"Fato Vendas\")\n",
    "verificar_valores_nulos(df_familia, \"Dimensão Família\")\n",
    "verificar_valores_nulos(df_produtos, \"Dimensão Produtos\")\n",
    "verificar_valores_nulos(df_vendedor, \"Dimensão Vendedor\")"
   ]
  },
  {
   "cell_type": "markdown",
   "metadata": {},
   "source": [
    "## Tratamento"
   ]
  },
  {
   "cell_type": "code",
   "execution_count": null,
   "metadata": {},
   "outputs": [],
   "source": [
    "df_vendas.fillna(0, inplace=True)\n",
    "df_familia.fillna(\"Desconhecido\", inplace=True)\n",
    "df_produtos.fillna(\"Desconhecido\", inplace=True)\n",
    "df_vendedor.fillna(\"Sem Nome\", inplace=True)"
   ]
  },
  {
   "cell_type": "markdown",
   "metadata": {},
   "source": [
    "## Duplicatas"
   ]
  },
  {
   "cell_type": "code",
   "execution_count": null,
   "metadata": {},
   "outputs": [
    {
     "name": "stdout",
     "output_type": "stream",
     "text": [
      "Removidas 8 duplicatas de Fato Vendas.\n",
      "Removidas 0 duplicatas de Dimensão Família.\n",
      "Removidas 0 duplicatas de Dimensão Produtos.\n",
      "Removidas 0 duplicatas de Dimensão Vendedor.\n"
     ]
    }
   ],
   "source": [
    "def remover_duplicatas(df, nome):\n",
    "    antes = len(df)\n",
    "    df.drop_duplicates(inplace=True)\n",
    "    depois = len(df)\n",
    "    print(f\"Removidas {antes - depois} duplicatas de {nome}.\")\n",
    "\n",
    "remover_duplicatas(df_vendas, \"Fato Vendas\")\n",
    "remover_duplicatas(df_familia, \"Dimensão Família\")\n",
    "remover_duplicatas(df_produtos, \"Dimensão Produtos\")\n",
    "remover_duplicatas(df_vendedor, \"Dimensão Vendedor\")"
   ]
  },
  {
   "cell_type": "markdown",
   "metadata": {},
   "source": [
    "## Exportando"
   ]
  },
  {
   "cell_type": "code",
   "execution_count": null,
   "metadata": {},
   "outputs": [],
   "source": [
    "df_vendas.to_csv(os.path.join(pasta_limpos, \"fato_vendas_limpo.csv\"), index=False)\n",
    "df_familia.to_csv(os.path.join(pasta_limpos, \"dim_familia_produtos_limpo.csv\"), index=False)\n",
    "df_produtos.to_csv(os.path.join(pasta_limpos, \"dim_produtos_limpo.csv\"), index=False)\n",
    "df_vendedor.to_csv(os.path.join(pasta_limpos, \"dim_vendedor_limpo.csv\"), index=False)"
   ]
  }
 ],
 "metadata": {
  "kernelspec": {
   "display_name": ".venv",
   "language": "python",
   "name": "python3"
  },
  "language_info": {
   "codemirror_mode": {
    "name": "ipython",
    "version": 3
   },
   "file_extension": ".py",
   "mimetype": "text/x-python",
   "name": "python",
   "nbconvert_exporter": "python",
   "pygments_lexer": "ipython3",
   "version": "3.12.3"
  }
 },
 "nbformat": 4,
 "nbformat_minor": 2
}
