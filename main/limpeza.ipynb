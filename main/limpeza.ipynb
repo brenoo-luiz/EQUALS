{
 "cells": [
  {
   "cell_type": "markdown",
   "metadata": {},
   "source": [
    "## Configuração"
   ]
  },
  {
   "cell_type": "code",
   "execution_count": 1,
   "metadata": {},
   "outputs": [
    {
     "name": "stderr",
     "output_type": "stream",
     "text": [
      "/tmp/ipykernel_95056/2365178606.py:19: DtypeWarning: Columns (0) have mixed types. Specify dtype option on import or set low_memory=False.\n",
      "  df_vendas = pd.read_csv(data_dir / arquivos[\"vendas\"])\n"
     ]
    }
   ],
   "source": [
    "import pandas as pd\n",
    "from pathlib import Path\n",
    "\n",
    "try:\n",
    "    base_dir = Path(__file__).parent.resolve()\n",
    "except NameError:\n",
    "    base_dir = Path.cwd().resolve()\n",
    "\n",
    "data_dir = base_dir / \"data\"\n",
    "clean_data_dir = base_dir / \"clean_data\"\n",
    "clean_data_dir.mkdir(parents=True, exist_ok=True)\n",
    "\n",
    "arquivos = {\n",
    "    \"vendas\": \"fato_vendas.csv\",\n",
    "    \"familia\": \"dim_familia_produtos.csv\",\n",
    "    \"produtos\": \"dim_produtos.csv\",\n",
    "    \"vendedor\": \"dim_vendedor.csv\"\n",
    "}\n",
    "df_vendas = pd.read_csv(data_dir / arquivos[\"vendas\"])\n",
    "df_familia = pd.read_csv(data_dir / arquivos[\"familia\"])\n",
    "df_produtos = pd.read_csv(data_dir / arquivos[\"produtos\"])\n",
    "df_vendedor = pd.read_csv(data_dir / arquivos[\"vendedor\"])"
   ]
  },
  {
   "cell_type": "markdown",
   "metadata": {},
   "source": [
    "## Informações gerais"
   ]
  },
  {
   "cell_type": "code",
   "execution_count": 2,
   "metadata": {},
   "outputs": [
    {
     "name": "stdout",
     "output_type": "stream",
     "text": [
      "<class 'pandas.core.frame.DataFrame'>\n",
      "RangeIndex: 207918 entries, 0 to 207917\n",
      "Data columns (total 9 columns):\n",
      " #   Column                 Non-Null Count   Dtype  \n",
      "---  ------                 --------------   -----  \n",
      " 0   codigo_contrato        207918 non-null  object \n",
      " 1   data_venda             207918 non-null  object \n",
      " 2   codigo_produto         207918 non-null  int64  \n",
      " 3   filial_venda           207918 non-null  int64  \n",
      " 4   quantidade             207918 non-null  int64  \n",
      " 5   valor_monetario_total  207918 non-null  float64\n",
      " 6   valor_desconto         207918 non-null  float64\n",
      " 7   codigo_vendedor        207918 non-null  int64  \n",
      " 8   codigo_cliente         207902 non-null  float64\n",
      "dtypes: float64(3), int64(4), object(2)\n",
      "memory usage: 14.3+ MB\n",
      "<class 'pandas.core.frame.DataFrame'>\n",
      "RangeIndex: 75 entries, 0 to 74\n",
      "Data columns (total 2 columns):\n",
      " #   Column            Non-Null Count  Dtype \n",
      "---  ------            --------------  ----- \n",
      " 0   codigo_familia    75 non-null     object\n",
      " 1   descricaofamilia  75 non-null     object\n",
      "dtypes: object(2)\n",
      "memory usage: 1.3+ KB\n",
      "<class 'pandas.core.frame.DataFrame'>\n",
      "RangeIndex: 4817 entries, 0 to 4816\n",
      "Data columns (total 5 columns):\n",
      " #   Column                  Non-Null Count  Dtype  \n",
      "---  ------                  --------------  -----  \n",
      " 0   codigo_produto          4817 non-null   int64  \n",
      " 1   descricaoproduto        4817 non-null   object \n",
      " 2   codigo_familia          4817 non-null   object \n",
      " 3   preco_venda_unitario    4817 non-null   float64\n",
      " 4   custo_produto_unitario  4817 non-null   float64\n",
      "dtypes: float64(2), int64(1), object(2)\n",
      "memory usage: 188.3+ KB\n",
      "<class 'pandas.core.frame.DataFrame'>\n",
      "RangeIndex: 60 entries, 0 to 59\n",
      "Data columns (total 2 columns):\n",
      " #   Column           Non-Null Count  Dtype \n",
      "---  ------           --------------  ----- \n",
      " 0   codigo_vendedor  60 non-null     int64 \n",
      " 1   nome_vendedor    60 non-null     object\n",
      "dtypes: int64(1), object(1)\n",
      "memory usage: 1.1+ KB\n"
     ]
    }
   ],
   "source": [
    "df_vendas.info()\n",
    "df_familia.info()\n",
    "df_produtos.info()\n",
    "df_vendedor.info()"
   ]
  },
  {
   "cell_type": "markdown",
   "metadata": {},
   "source": [
    "## Valores nulos"
   ]
  },
  {
   "cell_type": "code",
   "execution_count": 3,
   "metadata": {},
   "outputs": [
    {
     "name": "stdout",
     "output_type": "stream",
     "text": [
      "\n",
      "Valores nulos em Fato Vendas:\n",
      "codigo_contrato           0\n",
      "data_venda                0\n",
      "codigo_produto            0\n",
      "filial_venda              0\n",
      "quantidade                0\n",
      "valor_monetario_total     0\n",
      "valor_desconto            0\n",
      "codigo_vendedor           0\n",
      "codigo_cliente           16\n",
      "dtype: int64\n",
      "\n",
      "Valores nulos em Dimensão Família:\n",
      "codigo_familia      0\n",
      "descricaofamilia    0\n",
      "dtype: int64\n",
      "\n",
      "Valores nulos em Dimensão Produtos:\n",
      "codigo_produto            0\n",
      "descricaoproduto          0\n",
      "codigo_familia            0\n",
      "preco_venda_unitario      0\n",
      "custo_produto_unitario    0\n",
      "dtype: int64\n",
      "\n",
      "Valores nulos em Dimensão Vendedor:\n",
      "codigo_vendedor    0\n",
      "nome_vendedor      0\n",
      "dtype: int64\n"
     ]
    }
   ],
   "source": [
    "def verificar_valores_nulos(df, nome):\n",
    "    print(f\"\\nValores nulos em {nome}:\")\n",
    "    print(df.isnull().sum())\n",
    "\n",
    "verificar_valores_nulos(df_vendas, \"Fato Vendas\")\n",
    "verificar_valores_nulos(df_familia, \"Dimensão Família\")\n",
    "verificar_valores_nulos(df_produtos, \"Dimensão Produtos\")\n",
    "verificar_valores_nulos(df_vendedor, \"Dimensão Vendedor\")\n",
    "\n",
    "df_vendas.fillna(0, inplace=True)\n",
    "df_familia.fillna(\"Desconhecido\", inplace=True)\n",
    "df_produtos.fillna(\"Desconhecido\", inplace=True)\n",
    "df_vendedor.fillna(\"Sem Nome\", inplace=True)"
   ]
  },
  {
   "cell_type": "markdown",
   "metadata": {},
   "source": [
    "## Tratamento"
   ]
  },
  {
   "cell_type": "code",
   "execution_count": 4,
   "metadata": {},
   "outputs": [],
   "source": [
    "df_vendas.fillna(0, inplace=True)\n",
    "df_familia.fillna(\"Desconhecido\", inplace=True)\n",
    "df_produtos.fillna(\"Desconhecido\", inplace=True)\n",
    "df_vendedor.fillna(\"Sem Nome\", inplace=True)"
   ]
  },
  {
   "cell_type": "markdown",
   "metadata": {},
   "source": [
    "## Duplicatas"
   ]
  },
  {
   "cell_type": "code",
   "execution_count": 5,
   "metadata": {},
   "outputs": [
    {
     "name": "stdout",
     "output_type": "stream",
     "text": [
      "Removidas 8 duplicatas de Fato Vendas.\n",
      "Removidas 0 duplicatas de Dimensão Família.\n",
      "Removidas 0 duplicatas de Dimensão Produtos.\n",
      "Removidas 0 duplicatas de Dimensão Vendedor.\n"
     ]
    }
   ],
   "source": [
    "def remover_duplicatas(df, nome):\n",
    "    antes = len(df)\n",
    "    df.drop_duplicates(inplace=True)\n",
    "    depois = len(df)\n",
    "    print(f\"Removidas {antes - depois} duplicatas de {nome}.\")\n",
    "\n",
    "remover_duplicatas(df_vendas, \"Fato Vendas\")\n",
    "remover_duplicatas(df_familia, \"Dimensão Família\")\n",
    "remover_duplicatas(df_produtos, \"Dimensão Produtos\")\n",
    "remover_duplicatas(df_vendedor, \"Dimensão Vendedor\")"
   ]
  },
  {
   "cell_type": "markdown",
   "metadata": {},
   "source": [
    "## Exportando"
   ]
  },
  {
   "cell_type": "code",
   "execution_count": 6,
   "metadata": {},
   "outputs": [
    {
     "name": "stdout",
     "output_type": "stream",
     "text": [
      "Arquivos salvos em: /home/breno-luiz/Documents/EQUALS/main/clean_data\n"
     ]
    }
   ],
   "source": [
    "df_vendas.to_csv(clean_data_dir / \"fato_vendas_limpo.csv\", index=False)\n",
    "df_familia.to_csv(clean_data_dir / \"dim_familia_produtos_limpo.csv\", index=False)\n",
    "df_produtos.to_csv(clean_data_dir / \"dim_produtos_limpo.csv\", index=False)\n",
    "df_vendedor.to_csv(clean_data_dir / \"dim_vendedor_limpo.csv\", index=False)\n",
    "print(f\"Arquivos salvos em: {clean_data_dir}\")"
   ]
  }
 ],
 "metadata": {
  "kernelspec": {
   "display_name": ".venv",
   "language": "python",
   "name": "python3"
  },
  "language_info": {
   "codemirror_mode": {
    "name": "ipython",
    "version": 3
   },
   "file_extension": ".py",
   "mimetype": "text/x-python",
   "name": "python",
   "nbconvert_exporter": "python",
   "pygments_lexer": "ipython3",
   "version": "3.12.3"
  }
 },
 "nbformat": 4,
 "nbformat_minor": 2
}
